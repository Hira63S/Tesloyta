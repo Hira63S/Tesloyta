{
 "cells": [
  {
   "cell_type": "markdown",
   "metadata": {},
   "source": [
    "# Test with VOC Dataset\n",
    "\n",
    "THE VOC dataset from years 2007 and 2012 contains 20 classes (+1 for background class)\n",
    "\n",
    "We will experiment with this for object detection and would be working with another dataset later on.\n"
   ]
  },
  {
   "cell_type": "markdown",
   "metadata": {},
   "source": [
    "### Contains Functions:\n",
    "\n",
    "- parse_annotations: Takes in annotation path for the images and creates, boxes, labels and difficulties lists so that when we create a json file, we have the lists going in\n",
    "- Create Data Lists: Takes in the path for train and test data and using parse_annotations, extracts the lists from the .xml files and creates json files with train_images and train_objects where the objects have data from the parse_annotations functions' extraction of the .xml files about the objects\n",
    "- Transform: BIG ONE. Uses multiple functions like expand, resize, flip, random_crop and photometric distort:\n",
    "    - Expand: Expands the image size with a random prob of 0.5. Creates a new images and super imposes our image onto it. Important because the boxes sizes for the objects would need to be adjusted as well\n",
    "    - Resize: Resizes the image as well as the bounding boxes' dimensions. Could keep the same dimensions if the dimensions are the percent of the width and height because then we can just find object coordinates by multiplying the % with new_dims\n",
    "    - Flip: Flips the image horizontally and need to adjust the object bounding boxes the same way\n",
    "    - photometric distort: Randomly distorts the photographs by changing the saturation, hue, contrast.\n",
    "    - Random_crop: \n"
   ]
  },
  {
   "cell_type": "code",
   "execution_count": 1,
   "metadata": {},
   "outputs": [],
   "source": [
    "import torch\n",
    "from torch.utils.data import Dataset\n",
    "import json\n",
    "import os\n",
    "from PIL import Image\n",
    "# from utils import transform\n",
    "import torchvision.transforms.functional as FT\n",
    "import xml.etree.ElementTree as ET"
   ]
  },
  {
   "cell_type": "code",
   "execution_count": 2,
   "metadata": {},
   "outputs": [],
   "source": [
    "device = torch.device(\"cuda\" if torch.cuda.is_available() else \"cpu\")\n",
    "\n",
    "voc_labels = ('aeroplane', 'bicycle', 'bird', 'boat', 'bottle', 'bus', 'car', 'cat', 'chair', 'cow', 'diningtable',\n",
    "              'dog', 'horse', 'motorbike', 'person', 'pottedplant', 'sheep', 'sofa', 'train', 'tvmonitor')\n",
    "\n",
    "\n",
    "label_map = {k: v+1 for v, k in enumerate(voc_labels)}\n",
    "label_map['background'] = 0\n",
    "rev_color_map = {v: k for k, v in label_map.items()}"
   ]
  },
  {
   "cell_type": "code",
   "execution_count": 91,
   "metadata": {},
   "outputs": [
    {
     "data": {
      "text/plain": [
       "{'aeroplane': '#e6194b',\n",
       " 'bicycle': '#3cb44b',\n",
       " 'bird': '#ffe119',\n",
       " 'boat': '#0082c8',\n",
       " 'bottle': '#f58231',\n",
       " 'bus': '#911eb4',\n",
       " 'car': '#46f0f0',\n",
       " 'cat': '#f032e6',\n",
       " 'chair': '#d2f53c',\n",
       " 'cow': '#fabebe',\n",
       " 'diningtable': '#008080',\n",
       " 'dog': '#000080',\n",
       " 'horse': '#aa6e28',\n",
       " 'motorbike': '#fffac8',\n",
       " 'person': '#800000',\n",
       " 'pottedplant': '#aaffc3',\n",
       " 'sheep': '#808000',\n",
       " 'sofa': '#ffd8b1',\n",
       " 'train': '#e6beff',\n",
       " 'tvmonitor': '#808080',\n",
       " 'background': '#FFFFFF'}"
      ]
     },
     "execution_count": 91,
     "metadata": {},
     "output_type": "execute_result"
    }
   ],
   "source": [
    "distinct_colors = ['#e6194b', '#3cb44b', '#ffe119', '#0082c8', '#f58231', '#911eb4', '#46f0f0', '#f032e6',\n",
    "                   '#d2f53c', '#fabebe', '#008080', '#000080', '#aa6e28', '#fffac8', '#800000', '#aaffc3', '#808000',\n",
    "                   '#ffd8b1', '#e6beff', '#808080', '#FFFFFF']\n",
    "label_color_map = {k: distinct_colors[i] for i, k in enumerate(label_map.keys())}\n",
    "\n",
    "label_color_map"
   ]
  },
  {
   "cell_type": "markdown",
   "metadata": {},
   "source": [
    "Parse Annotation function is called inside another function and is passed in an annotation path.\n",
    "It takes the path and extracts the tree structure ( path is assumed to link to xml file)\n",
    "It gets a root from the tree and iterates through the items in the xml file by getting the object, finding if it has difficult in it and assigning it a value 1?\n",
    "find the label and lowers the name of the object\n",
    "finds the bounding box 4 values and subtract 1 from them (why?)\n",
    "Then we append the output boxes, labels, difficulties in a list.\n",
    "\n",
    "Parses annotations mostly"
   ]
  },
  {
   "cell_type": "code",
   "execution_count": 4,
   "metadata": {},
   "outputs": [],
   "source": [
    "def parse_annotation(annotation_path):\n",
    "    \n",
    "    # Xml is an inherently hierarchical data format, and mostly represented with a  tree.\n",
    "    # Element tree is the whole XML document  as a tree and Element is a single node in the tree\n",
    "    \n",
    "    tree = ET.parse(annotation_path)\n",
    "    root = tree.getroot()\n",
    "    \n",
    "    boxes = list()\n",
    "    labels = list()\n",
    "    difficulties = list()    # the boxes/objects that were super difficult to detect by the model\n",
    "    \n",
    "    for object in root.iter('object'):\n",
    "        \n",
    "        difficult = int(object.find('difficult').text == '1')\n",
    "        \n",
    "        label = object.find('name').text.lower().strip()\n",
    "        \n",
    "        if label not in label_map:\n",
    "            continue\n",
    "            \n",
    "        bbox = object.find('bndbox')\n",
    "        xmin = int(bbox.find('xmin').text) - 1\n",
    "        ymin = int(bbox.find('ymin').text) - 1\n",
    "        xmax = int(bbox.find('xmax').text) - 1\n",
    "        ymax = int(bbox.find('ymax').text) - 1\n",
    "        \n",
    "        boxes.append([xmin, ymin, xmax, ymax])\n",
    "        labels.append(label_map[label])\n",
    "        difficulties.append(difficult)\n",
    "    \n",
    "    return {'boxes': boxes, 'labels': labels, 'difficulties': difficulties}\n",
    "        "
   ]
  },
  {
   "cell_type": "markdown",
   "metadata": {},
   "source": [
    "For objects, we get the difficulties, labels and boxes and return them as lists using the parse_annotations function.\n",
    "We take those objects from the files that we pass in and apend them to train_objects list i.e. nested list or dictionary. Now the length of the list should be the same as the train_images list because each key in the train_objects list would have multiple values for boxes, labels and difficulties"
   ]
  },
  {
   "cell_type": "code",
   "execution_count": 5,
   "metadata": {},
   "outputs": [],
   "source": [
    "def create_data_lists(voc07_path, voc12_path, output_folder):\n",
    "    \"\"\"\n",
    "    Create lists of images, bounding boxes, labels of the objects in these images,\n",
    "    and save them to file.\n",
    "    \n",
    "    :param voc07_path: path to the 'VOC2007' folder\n",
    "    :param voc12_path: path to the 'VOC2012' folder\n",
    "    :param output_folder: folder where the JSONs must be saved\n",
    "    \"\"\"\n",
    "    voc07_path = os.path.abspath(voc07_path)\n",
    "    voc12_path = os.path.abspath(voc12_path)\n",
    "    \n",
    "    train_images = list()\n",
    "    train_objects = list()\n",
    "    n_objects = 0\n",
    "    \n",
    "    \n",
    "    # load the training data\n",
    "    \n",
    "    for path in [voc07_path, voc12_path]:\n",
    "        \n",
    "        with open(os.path.join(path, 'ImageSets/Main/trainval.txt')) as f:\n",
    "            ids = f.read().splitlines()\n",
    "            \n",
    "        for id in ids:\n",
    "            objects = parse_annotation(os.path.join(path, 'Annotations', id +'.xml'))   # Just transforms the read in xml file a little bit\n",
    "            if len(objects) == 0:\n",
    "                continue\n",
    "            \n",
    "            n_objects += len(objects)\n",
    "            train_objects.append(objects)  # is this creating an appended list or dictionary?\n",
    "            train_images.append(os.path.join(path, 'JPEGImages', id + '.jpg'))\n",
    "         # train objects contains the dictionary of all the objects in a single image\n",
    "        # \n",
    "    assert len(train_objects) == len(train_images)\n",
    "    \n",
    "    # save them to a JSON file\n",
    "    with open(os.path.join(output_folder, 'TRAIN_images.json'), 'w') as j:\n",
    "        json.dump(train_images, j)\n",
    "        \n",
    "    with open(os.path.join(output_folder, 'TRAIN_objects.json'), 'w') as j:\n",
    "        json.dump(train_objects, j)\n",
    "    \n",
    "    with open(os.path.join(output_folder, 'label_map.json'), 'w')as j:\n",
    "        json.dump(label_map, j)\n",
    "        \n",
    "    print('\\nThere are %d training images containing a total of %d objects. Files have been saved to %s.' % (\n",
    "        len(train_images), n_objects, os.path.abspath(output_folder)))\n",
    "\n",
    "    # Test data\n",
    "    \n",
    "    test_images = list()\n",
    "    test_objects = list()\n",
    "    n_objects = 0\n",
    "\n",
    "    # Find IDs of images in the test data\n",
    "    with open(os.path.join(voc07_path, 'ImageSets/Main/test.txt')) as f:\n",
    "        ids = f.read().splitlines()\n",
    "\n",
    "    for id in ids:\n",
    "        # Parse annotation's XML file\n",
    "        objects = parse_annotation(os.path.join(voc07_path, 'Annotations', id + '.xml'))\n",
    "        if len(objects) == 0:\n",
    "            continue\n",
    "        test_objects.append(objects)\n",
    "        n_objects += len(objects)\n",
    "        test_images.append(os.path.join(voc07_path, 'JPEGImages', id + '.jpg'))\n",
    "\n",
    "    assert len(test_objects) ==len(test_images)\n",
    "    \n",
    "    print('\\n There are %d test images containing a total of %d objects. Files have been saved to %s.' % (\n",
    "        len(test_images), n_objects, os.path.abspath(output_folder)))\n",
    "    "
   ]
  },
  {
   "cell_type": "code",
   "execution_count": 37,
   "metadata": {},
   "outputs": [
    {
     "name": "stdout",
     "output_type": "stream",
     "text": [
      "\n",
      "There are 16551 training images containing a total of 49653 objects. Files have been saved to C:\\Users\\Billi\\repos\\Computer_Vision\\basics\\CNNsAP\\Datasets\\Output_folder.\n",
      "\n",
      " There are 4952 test images containing a total of 14856 objects. Files have been saved to C:\\Users\\Billi\\repos\\Computer_Vision\\basics\\CNNsAP\\Datasets\\Output_folder.\n"
     ]
    }
   ],
   "source": [
    "# Let's test\n",
    "\n",
    "voc07_path = 'C:/Users/Billi/repos/Computer_Vision/basics/CNNsAP/Datasets/VOCtrainval_06_Nov_2007/VOCdevkit/VOC2007/'\n",
    "voc12_path = 'C:/Users/Billi/repos/Computer_Vision/basics/CNNsAP/Datasets/VOCtrainval_11_May_2012/VOCdevkit/VOC2012/'\n",
    "\n",
    "output_path = 'C:/Users/Billi/repos/Computer_Vision/basics/CNNsAP/Datasets/Output_folder/'\n",
    "\n",
    "create_data_lists(voc07_path, voc12_path, output_path)\n"
   ]
  },
  {
   "cell_type": "code",
   "execution_count": 6,
   "metadata": {},
   "outputs": [],
   "source": [
    "\n",
    "def transform(image, boxes, labels, difficulties, split):\n",
    "    \"\"\"\n",
    "    Apply the transformatons on the images\n",
    "    \n",
    "    :param image: Apply transformations on PIL image\n",
    "    :param boxes: bounding boxes in boundary coordinates, a tensor of dimensions\n",
    "    :param labels: labels of objects, a tensor of dimensions\n",
    "    :param difficulties: difficulty of detection, we might not even need this but need to perform transformations on it\n",
    "    :param split: Split the train and test datasets, since we perform different transformations on each\n",
    "    :return: return the transformed image,  boxes, labels, difficulties and splitted datasets\n",
    "    \n",
    "    \"\"\"\n",
    "    assert split in ('TRAIN', 'TEST')\n",
    "    \n",
    "    mean = [0.485, 0.456, 0.406]\n",
    "    std = [0.229, 0.224, 0.225]\n",
    "    \n",
    "    new_image = image\n",
    "    new_boxes = boxes\n",
    "    new_labels = labels\n",
    "    new_difficulties = difficulties\n",
    "    \n",
    "    if split == 'TRAIN':\n",
    "        \n",
    "        # photometric distortion is not built-in so have to pass that in too\n",
    "        \n",
    "        new_image = photometric_distort(new_image)\n",
    "        \n",
    "        new_image = FT.to_tensor(new_image)\n",
    "        \n",
    "        # expand i.e. zoom out the image with a 50% chance (i.e. applicable to 50% data?)\n",
    "        # expand with the mean of the whole dataset\n",
    "        # expand is not in-built, so have to write that function too\n",
    "        if random.random() < 0.5:\n",
    "            new_image, new_boxes = expand(new_image, boxes, filter=mean)\n",
    "            \n",
    "        new_image, new_boxes, new_labels, new_difficulties = random_crop(new_image, new_boxes, new_labels,\n",
    "                                                                        new_difficulties)\n",
    "        \n",
    "        new_image = FT.to_pil_image(new_image)\n",
    "        \n",
    "        # flip image with a 50% chance \n",
    "        # write the flip image function too\n",
    "        if random.random() < 0.5:\n",
    "            new_image, new_boxes = flip(new_image, new_boxes)\n",
    "    \n",
    "    # resize the image (300, 300) - this also converts absolute boundary coordinates to their fractional form\n",
    "    new_image, new_boxes = resize(new_image, new_boxes, dims=(300, 300))\n",
    "    \n",
    "    new_image = FT.to_tensor(new_image)\n",
    "    \n",
    "    new_image = FT.normalize(new_image, mean=mean, std=std)\n",
    "    \n",
    "    return new_image, new_boxes, new_labels, new_difficulties\n",
    "    "
   ]
  },
  {
   "cell_type": "code",
   "execution_count": 7,
   "metadata": {},
   "outputs": [],
   "source": [
    "def flip(image, boxes):\n",
    "    \"\"\"\n",
    "    Flip images horizontally.\n",
    "    \n",
    "    :param images: PIL image\n",
    "    :param boxes: bounding boxes in boundary coordinates, a tensor of dimension(n_objects, 4)\n",
    "    :return: flipped image ,updated bounding box coordinates\n",
    "    \"\"\"\n",
    "    new_image = FT.hflip(image)\n",
    "    \n",
    "    # flip the boxes too:\n",
    "    \n",
    "    new_boxes = boxes\n",
    "    \n",
    "    new_boxes[:, 0] = image.width - boxes[:, 0] - 1  # takes the first values from tensor of alllll the boxes and subtract from image.width\n",
    "    new_boxes[:, 2] = image.width - boxes[:, 2] - 1  # takes the 3rd value at index 2 from all the tensors \n",
    "    new_boxes = new_boxes[:, [2, 1, 0, 3]]\n",
    "    return new_image, new_boxes\n",
    "\n"
   ]
  },
  {
   "cell_type": "code",
   "execution_count": 41,
   "metadata": {},
   "outputs": [],
   "source": [
    "def expand(image, boxes, filler):\n",
    "    \"\"\"\n",
    "    Performs zooming out operation by placing the image in larger canvas of filler material.\n",
    "    \n",
    "    Helps to learn  to detect smaller objects.\n",
    "    \n",
    "    :param image: image, a tensor of dimensions (3, original_h, original_w)\n",
    "    :param boxes: bounding boxes in boundary coordinates, a tensor of dimensions(n_objects, 4)\n",
    "    :param filler: RGB values of the filler material, a list like [R, G, B]\n",
    "    \n",
    "    \"\"\"\n",
    "    \n",
    "    # calculate the dimension of proposed \n",
    "    original_h = image.size(1)\n",
    "    original_w = image.size(2)\n",
    "    max_scale = 4\n",
    "    scale = random.uniform(1, max_scale)\n",
    "    new_h = int(scale * original_h)\n",
    "    new_w = int(scale * original_h)\n",
    "    \n",
    "    # filler is passed in with a list of values of R, G, B channels\n",
    "    filler = torch.FloatTensor(filler)   # 3\n",
    "    # new we create the filler image on which we are going to impose our own image:\n",
    "    new_image = torch.ones((3, new_h, new_w), dtype=torch.float) * filler.unsqueeze(1).unsqueeze(1) \n",
    "    # outputs: (3, new_h, new_W)\n",
    "    # after creating a new image with a bunch of zeros, we will super impose the original image\n",
    "    # to expand it\n",
    "    left = random.randint(0, new_w - original_w)\n",
    "    right = left + original_w\n",
    "    top = random.randint(0, new_h - original_h)\n",
    "    bottom = top + original_h\n",
    "    new_image[:, top:bottom, left:right] = image\n",
    "    \n",
    "    # adjust the bounding boxes as well\n",
    "    new_boxes = boxes + torch.FloatTensor([left, top, left, top]).unsqueeze(0)\n",
    "    \n",
    "    return new_image, new_boxes\n",
    "    "
   ]
  },
  {
   "cell_type": "code",
   "execution_count": 45,
   "metadata": {},
   "outputs": [],
   "source": [
    "def resize(image, boxes, dim=(224, 224), return_percent_coords=True):\n",
    "    \"\"\"\n",
    "    Resize Image. SqueezeNet expects them to be at least 224.\n",
    "    \n",
    "    Since we have percent/fractional coordinates for  the bounding boxes (w.r.t the image dimensions), \n",
    "    we can choose to keep those.\n",
    "    \n",
    "    :param image: image, a PIL image\n",
    "    :param boxes: bounding boxes in boundary coordinates, a tensor of dimensions(n_objects, 4)\n",
    "    :return: returns the resize image along with the bounding boxes updates (or fractional coordinates,\n",
    "    in which case they remain the same because they can be calculated again using the newest dimensions of \n",
    "    the image)\n",
    "    \n",
    "    \"\"\"\n",
    "    # resize using the functional module\n",
    "    new_image = FT.resize(image, dims)\n",
    "    \n",
    "    # resizing the bounding boxes is the complicated part\n",
    "    old_dims = torch.FloatTensor([image.width, image.height, image.width, image.height]).unsqueeze(0)\n",
    "    # we divide the boxes coordinates by the old dimensions of lets say 300, 400, 300, 400 to get \n",
    "    # the percent dimensions\n",
    "    new_boxes = boxes / old_dims # percent coordinates\n",
    "    \n",
    "    if not return_percent_coords:\n",
    "        new_dims = torch.FloatTensor([dims[1], dims[0], dims[1], dims[0]]).unsqueeze(0)\n",
    "        new_boxes = new_boxes * new_dims\n",
    "        \n",
    "    return new_image, new_boxes\n",
    "    \n",
    "    "
   ]
  },
  {
   "cell_type": "code",
   "execution_count": 48,
   "metadata": {},
   "outputs": [],
   "source": [
    "def photometric_distort(image):\n",
    "    \"\"\"\n",
    "    Distort the saturation, hue, contrast so that the model has a range of situations to train on.\n",
    "    Each distortion is done with 50% chance\n",
    "    \n",
    "    :param image: image, a PIL image\n",
    "    :return: distorted image\n",
    "    \"\"\"\n",
    "    \n",
    "    new_image = image\n",
    "    \n",
    "    distortions = [FT.adjust_brightness,\n",
    "                   FT.adjust_contrast,\n",
    "                   FT.adjust_saturation,\n",
    "                   FT.adjust_hue]\n",
    "    \n",
    "    random.shuffle(distortions)\n",
    "    \n",
    "    for d in distortions:\n",
    "        if random.random() < 0.5:\n",
    "            if d.__name__ is 'adjust_hue':\n",
    "                # caffe uses a hue of 18 but we will normalize it since Pytorch needs normalized value:\n",
    "                adjust_factor = random.uniform(-18 / 255., 18/255.)\n",
    "                \n",
    "            else:\n",
    "                # lower and upper values for brightness, contrast, and saturation\n",
    "                adjust_fator = random.uniform(0.5, 1.5)\n",
    "                \n",
    "            \n",
    "            new_image = d(new_image, adjust_factor)\n",
    "            # would do something like:\n",
    "            # FT.adjust_saturation(image, random number from adjust_factor)\n",
    "    return new_image\n",
    "    "
   ]
  },
  {
   "cell_type": "code",
   "execution_count": 61,
   "metadata": {},
   "outputs": [
    {
     "name": "stdout",
     "output_type": "stream",
     "text": [
      "2\n",
      "torch.Size([2, 2, 4])\n"
     ]
    }
   ],
   "source": [
    "image = torch.tensor([[[1, 300, 300, 400], [1, 200, 250, 300]], [[1, 130, 200, 400], [22, 1, 123, 3]]])\n",
    "\n",
    "print(image.size(0))\n",
    "print(image.shape)"
   ]
  },
  {
   "cell_type": "code",
   "execution_count": 60,
   "metadata": {},
   "outputs": [
    {
     "data": {
      "text/plain": [
       "torch.Size([2, 2, 4])"
      ]
     },
     "execution_count": 60,
     "metadata": {},
     "output_type": "execute_result"
    }
   ],
   "source": [
    "image.shape"
   ]
  },
  {
   "cell_type": "code",
   "execution_count": 90,
   "metadata": {},
   "outputs": [],
   "source": [
    "def random_crop(image, boxes, labels, difficulties):\n",
    "    \"\"\"\n",
    "    Randomly crop the image. Helps in learning to detect larger and partial objects\n",
    "    \n",
    "    Note that some objects may be cut out entirely.\n",
    "    \n",
    "    :param image:, a tensor of dimensions (3, original_h, original_w)\n",
    "    :param boxes: bounding boxes in boundary coordinates, a tensor of dimensions (n_objects, 4)\n",
    "    :param labels: labels of objects, a tensor of dimensions (n_objects)\n",
    "    :param difficulties: difficulties of detection of the objects, a tensor of dimensions (n_objects)\n",
    "    :return: cropped image, updated bounding boxes corrodinates, updates labels, updated difficulties\n",
    "    \n",
    "    \"\"\"\n",
    "    original_h = image.size(1)   # takes the second element in the tensor\n",
    "    original_w = image.size(1)\n",
    "    \n",
    "    # keep chossing a minimum overlap until a successful crop is made\n",
    "    while True:\n",
    "        # randomly draw the value for minimum overlap:\n",
    "        min_overlap = random.choice([0., .1, .3, .5, .7, .9, None])   # 'None means no cropping\n",
    "        \n",
    "        if min_overlap is None:\n",
    "            return image, boxes, labels, difficulties\n",
    "        \n",
    "        max_trials = 50\n",
    "        \n",
    "        for _ in range(max_trials):\n",
    "            # can't go smaller than 0.3 of the image for the crop\n",
    "            min_scale = 0.3\n",
    "            scale_h = random.uniform(min_scale, 1)\n",
    "            scale_w = random.uniform(min_scale, 1)\n",
    "            new_h = int(scale_h * original_h)\n",
    "            new_w = int(scale_w * original_w)\n",
    "            \n",
    "            # Aspect ratio\n",
    "            aspect_ratio = new_h / new_w\n",
    "            if not 0.5 < aspect_ratio < 2:\n",
    "                continue\n",
    "            # FIXME: I believe with continue here, it stops going forward and goes back through the\n",
    "            # loop until the aspect ratio is between 0. and 2 \n",
    "            \n",
    "            left = random.randint(0, original_w - new_w)   # 4.2 in the example\n",
    "            right = left + new_w\n",
    "            \n",
    "            top = random.randint(0, original_h - new_h)     # 3.3\n",
    "            bottom = top + new_h\n",
    "            # makes sense since we are still on the grid so we would go to left corner at 4,0\n",
    "            # for the new crop for the top left corner. Then, we would go to the right corner which would\n",
    "            # be the left corner coordinate + the new_w which was 6.3 in our case\n",
    "            # For the bottom, we would do the same with going to the top number and adding new_h to it\n",
    "            # Finally we performed the crop\n",
    "            crop = torch.FloatTensor([left, top, right, bottom])\n",
    "\n",
    "            # find the jaccard overlap between the crop and the bounding boxes\n",
    "            overlap = find_jaccard_overlap(crop.unsqueeze(0), boxes)  (1, n_objects)\n",
    "            \n",
    "            overlap = overlap.squeeze(0)  # (n_objects)\n",
    "            \n",
    "            if overlap.max().item() < min_overlap:\n",
    "                continue\n",
    "                \n",
    "            # finally crop the image:\n",
    "            \n",
    "            new_image = image[:, top:bottom, left:right]   # (3, new_h, new_w)\n",
    "            \n",
    "            # find the center of the original bounding boxes\n",
    "            bb_center = (boxes[:, :2] + boxes[:, 2:]) /2.  # (n_objects, 2)\n",
    "            \n",
    "            # find bounding boxes whose centers are in the crop\n",
    "            centers_in_crop = (bb_centers[:, 0] > left) * (bb_centers[:, 0] < right) * (bb_centers[:, 1] > top) * (\n",
    "                                bb_centers[:, 1] < bottom)\n",
    "            \n",
    "            # continue doing so until we do find a crop that has the images with objects centered in the crop as well\n",
    "            if not centers_in_crop.any():\n",
    "                continue\n",
    "                \n",
    "            \n",
    "            # discard the ones that are not in the new cropped image but if they are:\n",
    "            \n",
    "            new_boxes = boxes[centers_in_crop, :]\n",
    "            new_labels = labels[centers_in_crop]\n",
    "            new_difficulties = difficulties[centers_in_crop]\n",
    "            \n",
    "            new_boxes[:, :2] = torch.max(new_boxes[:, :2], crop[:2])   # crop[:2] is [left, top]\n",
    "            new_boxes[:, :2] -= crop[:2]\n",
    "            new_boxes[:, 2:] = torch.max(new_boxes[:, 2:], crop[2:])    # crop[2:] is (right, bottom)\n",
    "            new_boxes[:, 2:] -= crop[:2]\n",
    "            \n",
    "            return new_image, new_boxes, new_labels, new_difficulties\n",
    "            \n",
    "            \n",
    "     "
   ]
  },
  {
   "cell_type": "code",
   "execution_count": 63,
   "metadata": {},
   "outputs": [
    {
     "data": {
      "text/plain": [
       "0.5999940486895043"
      ]
     },
     "execution_count": 63,
     "metadata": {},
     "output_type": "execute_result"
    }
   ],
   "source": [
    "random.uniform(0.3, 1)"
   ]
  },
  {
   "cell_type": "code",
   "execution_count": 72,
   "metadata": {},
   "outputs": [
    {
     "data": {
      "text/plain": [
       "0"
      ]
     },
     "execution_count": 72,
     "metadata": {},
     "output_type": "execute_result"
    }
   ],
   "source": [
    "random.randint(0, int(3.3))"
   ]
  },
  {
   "cell_type": "code",
   "execution_count": 84,
   "metadata": {},
   "outputs": [],
   "source": [
    "boxes = torch.tensor([[4., 4., 2., 7.], [7., 4., 1., 7.]])"
   ]
  },
  {
   "cell_type": "code",
   "execution_count": 89,
   "metadata": {},
   "outputs": [
    {
     "data": {
      "text/plain": [
       "tensor([[5.0000, 7.5000],\n",
       "        [7.5000, 7.5000]])"
      ]
     },
     "execution_count": 89,
     "metadata": {},
     "output_type": "execute_result"
    }
   ],
   "source": [
    "boxes[:, :2] + boxes[:, 2:] / 2"
   ]
  },
  {
   "cell_type": "code",
   "execution_count": 86,
   "metadata": {},
   "outputs": [
    {
     "data": {
      "text/plain": [
       "2"
      ]
     },
     "execution_count": 86,
     "metadata": {},
     "output_type": "execute_result"
    }
   ],
   "source": [
    "test = torch.zeros([2,4])\n",
    "\n",
    "test.dim()"
   ]
  },
  {
   "cell_type": "code",
   "execution_count": 76,
   "metadata": {},
   "outputs": [],
   "source": [
    "boxes = {'boxes': [[4.25, 4.08, 2, 7.25], [7.25, 4.5, 1.75, 7.5]]}"
   ]
  },
  {
   "cell_type": "code",
   "execution_count": null,
   "metadata": {},
   "outputs": [],
   "source": []
  },
  {
   "cell_type": "code",
   "execution_count": 77,
   "metadata": {},
   "outputs": [
    {
     "ename": "TypeError",
     "evalue": "unhashable type: 'slice'",
     "output_type": "error",
     "traceback": [
      "\u001b[1;31m---------------------------------------------------------------------------\u001b[0m",
      "\u001b[1;31mTypeError\u001b[0m                                 Traceback (most recent call last)",
      "\u001b[1;32m<ipython-input-77-2042a7f8bf55>\u001b[0m in \u001b[0;36m<module>\u001b[1;34m\u001b[0m\n\u001b[1;32m----> 1\u001b[1;33m \u001b[0mboxes\u001b[0m\u001b[1;33m[\u001b[0m\u001b[1;33m:\u001b[0m\u001b[1;33m,\u001b[0m \u001b[1;33m:\u001b[0m\u001b[1;36m2\u001b[0m\u001b[1;33m]\u001b[0m\u001b[1;33m\u001b[0m\u001b[1;33m\u001b[0m\u001b[0m\n\u001b[0m",
      "\u001b[1;31mTypeError\u001b[0m: unhashable type: 'slice'"
     ]
    }
   ],
   "source": [
    "boxes[:, :2]"
   ]
  },
  {
   "cell_type": "code",
   "execution_count": null,
   "metadata": {},
   "outputs": [],
   "source": [
    "# findings the centers:\n",
    "bb_centers = (boxes[:, :2] + boxes[:, 2:])"
   ]
  },
  {
   "cell_type": "code",
   "execution_count": null,
   "metadata": {},
   "outputs": [],
   "source": []
  },
  {
   "cell_type": "code",
   "execution_count": null,
   "metadata": {},
   "outputs": [],
   "source": []
  },
  {
   "cell_type": "markdown",
   "metadata": {},
   "source": [
    "# Functions to transform FC -> Conv"
   ]
  },
  {
   "cell_type": "code",
   "execution_count": 42,
   "metadata": {},
   "outputs": [],
   "source": [
    "def decimate(tensor, m):\n",
    "    \"\"\"\n",
    "    Decimate a tensor by mth factor i.e. keep only the mth value to downsample\n",
    "    Used when converting Fc layers to equivalent conv layers but of smaller size\n",
    "    \n",
    "    :param tensor: tensor to be decimated\n",
    "    :param m: list of decimation factors by which we want to do decimation by. Contain different dimension that match the\n",
    "    tensor dimensions\n",
    "    \"\"\"\n",
    "    assert tensor.dim() == len(m)\n",
    "    \n",
    "    for d in range(tensor.dim()):    # iterate through the dimensions of the tensor\n",
    "        if m[d] is not None:         # if there is a corresponding dimension in the mth list, perform the decimation\n",
    "            tensor = tensor.index_select(dim=d,\n",
    "                                         index=torch.arange(start=0, end=tensor.size(d), step=m[d]).long())\n",
    "            \n",
    "    return tensor\n",
    "    "
   ]
  },
  {
   "cell_type": "code",
   "execution_count": 40,
   "metadata": {},
   "outputs": [
    {
     "data": {
      "text/plain": [
       "tensor([[[100., 200., 150.]]])"
      ]
     },
     "execution_count": 40,
     "metadata": {},
     "output_type": "execute_result"
    }
   ],
   "source": [
    "filler.unsqueeze(0).unsqueeze(0)"
   ]
  },
  {
   "cell_type": "code",
   "execution_count": 23,
   "metadata": {},
   "outputs": [
    {
     "data": {
      "text/plain": [
       "<matplotlib.image.AxesImage at 0x1f305c1f198>"
      ]
     },
     "execution_count": 23,
     "metadata": {},
     "output_type": "execute_result"
    },
    {
     "data": {
      "image/png": "[encoded data removed]",
      "text/plain": [
       "<Figure size 432x288 with 1 Axes>"
      ]
     },
     "metadata": {
      "needs_background": "light"
     },
     "output_type": "display_data"
    }
   ],
   "source": [
    "import cv2\n",
    "import matplotlib.pyplot as plt\n",
    "\n",
    "filename = 'model_y.png'\n",
    "image = cv2.imread(filename)\n",
    "\n",
    "plt.imshow(image)\n"
   ]
  },
  {
   "cell_type": "code",
   "execution_count": 24,
   "metadata": {},
   "outputs": [],
   "source": [
    "image_t = torch.tensor(image)"
   ]
  },
  {
   "cell_type": "code",
   "execution_count": 26,
   "metadata": {},
   "outputs": [],
   "source": [
    "image_t =image_t.reshape(3, 800, 800)"
   ]
  },
  {
   "cell_type": "code",
   "execution_count": 27,
   "metadata": {},
   "outputs": [
    {
     "data": {
      "text/plain": [
       "torch.Size([3, 800, 800])"
      ]
     },
     "execution_count": 27,
     "metadata": {},
     "output_type": "execute_result"
    }
   ],
   "source": [
    "image_t.shape"
   ]
  },
  {
   "cell_type": "code",
   "execution_count": 28,
   "metadata": {},
   "outputs": [
    {
     "data": {
      "text/plain": [
       "800"
      ]
     },
     "execution_count": 28,
     "metadata": {},
     "output_type": "execute_result"
    }
   ],
   "source": [
    "image_t.size(1)"
   ]
  },
  {
   "cell_type": "code",
   "execution_count": 14,
   "metadata": {},
   "outputs": [],
   "source": [
    "import random"
   ]
  },
  {
   "cell_type": "code",
   "execution_count": 29,
   "metadata": {},
   "outputs": [],
   "source": [
    "original_h = image_t.size(1)\n",
    "original_w = image_t.size(2)\n",
    "max_scale = 4\n",
    "scale = random.uniform(1, max_scale)\n",
    "new_h = int(scale * original_h)\n",
    "new_w = int(scale * original_h)"
   ]
  },
  {
   "cell_type": "code",
   "execution_count": 30,
   "metadata": {},
   "outputs": [],
   "source": [
    "filler = [100, 200, 150]"
   ]
  },
  {
   "cell_type": "code",
   "execution_count": 31,
   "metadata": {},
   "outputs": [],
   "source": [
    "filler = torch.FloatTensor(filler)  # (3)\n",
    "new_image = torch.ones((3, new_h, new_w), dtype=torch.float) * filler.unsqueeze(1).unsqueeze(1)\n",
    "\n",
    "\n",
    "left = random.randint(0, new_w - original_w)\n",
    "right = left + original_w\n",
    "top = random.randint(0, new_h - original_h)\n",
    "bottom = top + original_h\n",
    "new_image[:, top:bottom, left:right] = image_t\n",
    "\n",
    "    \n",
    "    "
   ]
  },
  {
   "cell_type": "code",
   "execution_count": 35,
   "metadata": {},
   "outputs": [
    {
     "data": {
      "text/plain": [
       "torch.Size([3, 2051, 2051])"
      ]
     },
     "execution_count": 35,
     "metadata": {},
     "output_type": "execute_result"
    }
   ],
   "source": [
    "new_image.shape\n"
   ]
  },
  {
   "cell_type": "code",
   "execution_count": 36,
   "metadata": {},
   "outputs": [],
   "source": [
    "new_pic = new_image.reshape(2051, 2051, 3)"
   ]
  },
  {
   "cell_type": "code",
   "execution_count": 37,
   "metadata": {},
   "outputs": [
    {
     "name": "stderr",
     "output_type": "stream",
     "text": [
      "Clipping input data to the valid range for imshow with RGB data ([0..1] for floats or [0..255] for integers).\n"
     ]
    },
    {
     "data": {
      "text/plain": [
       "<matplotlib.image.AxesImage at 0x1f305ec4668>"
      ]
     },
     "execution_count": 37,
     "metadata": {},
     "output_type": "execute_result"
    },
    {
     "data": {
      "image/png": "[encoded data removed]",
      "text/plain": [
       "<Figure size 432x288 with 1 Axes>"
      ]
     },
     "metadata": {
      "needs_background": "light"
     },
     "output_type": "display_data"
    }
   ],
   "source": [
    "plt.imshow(new_pic)"
   ]
  },
  {
   "cell_type": "code",
   "execution_count": 19,
   "metadata": {},
   "outputs": [
    {
     "data": {
      "text/plain": [
       "torch.Size([3, 976, 976])"
      ]
     },
     "execution_count": 19,
     "metadata": {},
     "output_type": "execute_result"
    }
   ],
   "source": [
    "new_image.shape"
   ]
  },
  {
   "cell_type": "code",
   "execution_count": 34,
   "metadata": {},
   "outputs": [
    {
     "name": "stderr",
     "output_type": "stream",
     "text": [
      "Clipping input data to the valid range for imshow with RGB data ([0..1] for floats or [0..255] for integers).\n"
     ]
    },
    {
     "data": {
      "text/plain": [
       "<matplotlib.image.AxesImage at 0x1f305e714a8>"
      ]
     },
     "execution_count": 34,
     "metadata": {},
     "output_type": "execute_result"
    },
    {
     "data": {
      "image/png": "[encoded data removed]",
      "text/plain": [
       "<Figure size 432x288 with 1 Axes>"
      ]
     },
     "metadata": {
      "needs_background": "light"
     },
     "output_type": "display_data"
    }
   ],
   "source": [
    "plt.imshow(new)"
   ]
  },
  {
   "cell_type": "markdown",
   "metadata": {},
   "source": [
    "## Flip function exploration"
   ]
  },
  {
   "cell_type": "code",
   "execution_count": 62,
   "metadata": {},
   "outputs": [],
   "source": [
    "boxes = torch.tensor([[2, 8, 2, 4],\n",
    "        [50, 80, 50, 40],\n",
    "        [5, 3, 2, 2]])\n"
   ]
  },
  {
   "cell_type": "code",
   "execution_count": 58,
   "metadata": {},
   "outputs": [],
   "source": [
    "new_boxes = boxes"
   ]
  },
  {
   "cell_type": "code",
   "execution_count": 63,
   "metadata": {},
   "outputs": [
    {
     "data": {
      "text/plain": [
       "tensor([ 2, 50,  5])"
      ]
     },
     "execution_count": 63,
     "metadata": {},
     "output_type": "execute_result"
    }
   ],
   "source": [
    "boxes[:, 0]"
   ]
  },
  {
   "cell_type": "code",
   "execution_count": 64,
   "metadata": {},
   "outputs": [
    {
     "data": {
      "text/plain": [
       "tensor([ 2, 50,  2])"
      ]
     },
     "execution_count": 64,
     "metadata": {},
     "output_type": "execute_result"
    }
   ],
   "source": [
    "boxes[:, 2]"
   ]
  },
  {
   "cell_type": "code",
   "execution_count": 59,
   "metadata": {},
   "outputs": [],
   "source": [
    "new_boxes[:, 0] = 100 - boxes[:, 0] - 1\n",
    "new_boxes[:, 2] = 100 - boxes[:, 2]- 1\n",
    "new_boxes = new_boxes[:, [2, 1, 0, 3]]"
   ]
  },
  {
   "cell_type": "code",
   "execution_count": 60,
   "metadata": {},
   "outputs": [
    {
     "data": {
      "text/plain": [
       "tensor([[97,  8, 97,  4],\n",
       "        [49, 80, 49, 40],\n",
       "        [97,  3, 94,  2]])"
      ]
     },
     "execution_count": 60,
     "metadata": {},
     "output_type": "execute_result"
    }
   ],
   "source": [
    "new_boxes"
   ]
  },
  {
   "cell_type": "code",
   "execution_count": null,
   "metadata": {},
   "outputs": [],
   "source": []
  }
 ],
 "metadata": {
  "kernelspec": {
   "display_name": "Python 3",
   "language": "python",
   "name": "python3"
  },
  "language_info": {
   "codemirror_mode": {
    "name": "ipython",
    "version": 3
   },
   "file_extension": ".py",
   "mimetype": "text/x-python",
   "name": "python",
   "nbconvert_exporter": "python",
   "pygments_lexer": "ipython3",
   "version": "3.7.3"
  }
 },
 "nbformat": 4,
 "nbformat_minor": 2
}
