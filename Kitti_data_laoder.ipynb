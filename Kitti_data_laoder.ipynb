{
 "cells": [
  {
   "cell_type": "markdown",
   "metadata": {},
   "source": [
    "# Kitti Dataset Loader"
   ]
  },
  {
   "cell_type": "code",
   "execution_count": 1,
   "metadata": {},
   "outputs": [
    {
     "name": "stdout",
     "output_type": "stream",
     "text": [
      "Hello Tesla! I am images\n",
      "Hello Tesla! I am boxes\n"
     ]
    }
   ],
   "source": [
    "import os\n",
    "import subprocess\n",
    "import numpy as np\n",
    "import skimage.io\n",
    "\n",
    "import torch.utils.data\n",
    "\n",
    "from utils.images import whiten, drift, flip, resize, crop_or_pad\n",
    "from utils.boxes import compute_deltas, visualize_boxes"
   ]
  },
  {
   "cell_type": "code",
   "execution_count": 10,
   "metadata": {},
   "outputs": [],
   "source": [
    "import torch\n",
    "import torch.nn as nn\n",
    "import torch.nn.init as init\n",
    "from torch.utils.model_zoo import load_url as load_state_dict_from_url"
   ]
  },
  {
   "cell_type": "code",
   "execution_count": 2,
   "metadata": {},
   "outputs": [],
   "source": [
    "from model.SqueezeNet_detect import SqueezeDetWithLoss"
   ]
  },
  {
   "cell_type": "code",
   "execution_count": 6,
   "metadata": {},
   "outputs": [],
   "source": [
    "from utils.config import Args"
   ]
  },
  {
   "cell_type": "code",
   "execution_count": 7,
   "metadata": {},
   "outputs": [],
   "source": [
    "arguments = Args()"
   ]
  },
  {
   "cell_type": "markdown",
   "metadata": {},
   "source": [
    "# Load Model"
   ]
  },
  {
   "cell_type": "code",
   "execution_count": 26,
   "metadata": {},
   "outputs": [],
   "source": [
    "class Fire(nn.Module):\n",
    "\n",
    "    def __init__(self, inplanes, squeeze_planes,\n",
    "                 expand1x1_planes, expand3x3_planes):\n",
    "        super(Fire, self).__init__()\n",
    "        self.inplanes = inplanes\n",
    "        self.squeeze = nn.Conv2d(inplanes, squeeze_planes, kernel_size=1)\n",
    "        self.squeeze_activation = nn.ReLU(inplace=True)\n",
    "        self.expand1x1 = nn.Conv2d(squeeze_planes, expand1x1_planes, kernel_size=1)\n",
    "        self.expand1x1_activation = nn.ReLU(inplace=True)\n",
    "        self.expand3x3 = nn.Conv2d(squeeze_planes, expand3x3_planes, kernel_size=3, padding=1)\n",
    "        self.expand3x3_activation = nn.ReLU(inplace=True)\n",
    "\n",
    "    def forward(self, x):\n",
    "        x = self.squeeze_activation(self.squeeze(x))\n",
    "        final_conv = torch.cat([\n",
    "            self.expand1x1_activation(self.expand1x1(x)),\n",
    "            self.expand3x3_activation(self.expand3x3(x))\n",
    "        ], 1)\n",
    "        return final_conv\n",
    "\n",
    "\n",
    "class SqueezenetDet(nn.Module):\n",
    "\n",
    "    def __init__(self, num_classes, num_anchors, version, anchors_per_grid, dropout_prob):\n",
    "        super(SqueezenetDet, self).__init__()\n",
    "        self.num_classes = num_classes   # we get the number of classes and anchors\n",
    "        self.num_anchors = num_anchors   # from the configs file\n",
    "        self.version = version\n",
    "        self.anchors_per_grid = anchors_per_grid\n",
    "        self.dropout_prob = dropout_prob\n",
    "        if version == 'squeezedet':\n",
    "            self.features = nn.Sequential(\n",
    "                nn.Conv2d(3, 64, kernel_size=3, stride=2, padding=1),\n",
    "                nn.ReLU(inplace=True),\n",
    "                nn.MaxPool2d(kernel_size=3, stride=2, ceil_mode=True),\n",
    "                Fire(64, 16, 64, 64),\n",
    "                Fire(128, 16, 64, 64),\n",
    "                nn.MaxPool2d(kernel_size=3, stride=2, ceil_mode=True),\n",
    "                Fire(128, 32, 128, 128),\n",
    "                Fire(256, 32, 128, 128),\n",
    "                nn.MaxPool2d(kernel_size=3, stride=2, ceil_mode=True),\n",
    "                Fire(256, 48, 192, 192),\n",
    "                Fire(384, 48, 192, 192),\n",
    "                Fire(384, 64, 256, 256),\n",
    "                Fire(512, 64, 256, 256),\n",
    "                Fire(512, 96, 384, 384),\n",
    "                Fire(768, 96, 384, 384)\n",
    "            )\n",
    "        elif version == 'squeezedetplus':\n",
    "            self.features = nn.Sequential(\n",
    "                nn.Conv2d(3, 96, kernel_size=7, stride=2, padding=3),\n",
    "                nn.ReLU(inplace=True),\n",
    "                nn.MaxPool2d(kernel_size=3, stride=2, ceil_mode=True),\n",
    "                Fire(96, 96, 64, 64),\n",
    "                Fire(128, 96, 64, 64),\n",
    "                Fire(128, 192, 128, 128),\n",
    "                nn.MaxPool2d(kernel_size=3, stride=2, ceil_mode=True),\n",
    "                Fire(256, 192, 128, 128),\n",
    "                Fire(256, 288, 192, 192),\n",
    "                Fire(384, 288, 192, 192),\n",
    "                Fire(384, 384, 256, 256),\n",
    "                nn.MaxPool2d(kernel_size=3, stride=2, ceil_mode=True),\n",
    "                Fire(512, 384, 256, 256),\n",
    "                Fire(512, 384, 256, 256),\n",
    "                Fire(512, 384, 256, 256),\n",
    "            )\n",
    "\n",
    "        else:\n",
    "            raise ValueError(\"Unsupported SqueezeNet version\")\n",
    "\n",
    "        # adding a drop out layer, might get rid of it later on\n",
    "        self.dropout = nn.Dropout(dropout_prob, inplace=True) \\\n",
    "            if dropout_prob > 0 else None\n",
    "        self.convdet = nn.Conv2d(768 if version == 'squeezedet' else 512,\n",
    "                                 anchors_per_grid * (num_classes + 5),  # K (n_classes + 5) from the SqueezeDet paper +1 is for confidence\n",
    "                                 kernel_size=3, padding=1)                      # score of how likely it is that the object exists in the box\n",
    "\n",
    "        self.init_weights()\n",
    "\n",
    "\n",
    "\n",
    "    def forward(self, x):\n",
    "        x = self.features(x)\n",
    "        if self.dropout is not None:\n",
    "            x = self.dropout(x)\n",
    "        x = self.convdet(x)\n",
    "        x = x.permute(0, 2, 3, 1).contiguous()          # already doing that with transform so let's compare\n",
    "        return x.view(-1, self.num_anchors, self.num_classes + 5)\n",
    "\n",
    "\n",
    "    def init_weights(self):\n",
    "        for m in self.modules():\n",
    "            if isinstance(m, nn.Conv2d):\n",
    "                if m is self.convdet:\n",
    "                    nn.init.normal_(m.weight, mean=0.0, std=0.002)\n",
    "                else:\n",
    "                    nn.init.normal_(m.weight, mean=0.0, std=0.005)\n",
    "                if m.bias is not None:\n",
    "                    nn.init.constant_(m.bias, 0)\n",
    "# would probably have to do something here\n",
    "\n",
    "# prediction resolver i.e. make them interpretable\n",
    "\n",
    "def safe_softmax(probs, dim=None):\n",
    "    exp = torch.exp(probs - torch.max(probs, dim=dim, keepdim=True)[0])\n",
    "    return exp / torch.sum(exp, dim=dim, keepdim=True)\n",
    "\n",
    "class PredictionResolver(nn.Module):\n",
    "    def __init__(self, input_size, num_classes, anchors, anchors_per_grid, log_softmax=False):\n",
    "        super(PredictionResolver, self).__init__()\n",
    "\n",
    "        self.log_softmax = log_softmax\n",
    "        self.input_size = input_size\n",
    "        self.num_classes = num_classes\n",
    "        self.anchors = torch.from_numpy(anchors).unsqueeze(0).float()\n",
    "        self.anchors_per_grid = anchors_per_grid\n",
    "\n",
    "        def forward(self, pred):\n",
    "            pred_class_probs = safe_softmax(pred[..., :self.num_classes].contiguous(), dim=-1)\n",
    "            pred_log_class_probs = None if not self.log_softmax else \\\n",
    "                torch.log_softmax(pred[..., :self.num_classes].contiguous(), dim=-1)   # this would not include the +1 for C so we will\n",
    "            # be fine because we will only have the number of probablities for all the classes expected\n",
    "            pred_scores = torch.sigmoid(pred[..., self.num_classes:self.num_classes + 1].contiguous())\n",
    "            pred_deltas = pred[..., self.num_classes + 1:].contiguous()\n",
    "            pred_boxes = deltas_to_boxes(pred_deltas, self.anchors.to(pred_deltas, device),\n",
    "                                         input_size=self.input_size)\n",
    "            return pred_class_probs, pred_log_class_probs, pred_scores, pred_deltas, pred_boxes\n",
    "\n",
    "\n",
    "\n",
    "# Define the loss function next\n",
    "\n",
    "class Loss(nn.Module):\n",
    "    def __init__(self, num_anchors, class_loss_weight, positive_score_loss_weight, negative_score_loss_weight, bbox_loss_weights):\n",
    "        super(Loss, self).__init__()\n",
    "        self.resolver = PredictionResolver(input_size, num_classes, anchors, anchors_per_grid, log_softmax=True)\n",
    "        self.num_anchors = num_anchors\n",
    "        self.class_loss_weight = class_loss_weight\n",
    "        self.positive_score_loss_weight = positive_score_loss_weight\n",
    "        self.negative_score_loss_weight = negative_score_loss_weight\n",
    "        self.bbox_loss_weight = bbox_loss_weights\n",
    "\n",
    "    def forward(self, pred, gt):\n",
    "        # slice the gt tensor ground truth tensor\n",
    "        anchor_masks = gt[..., :1]   # for all the rows, get the first one\n",
    "        gt_boxes = gt[..., 1:5]      # the next 4 are the boxes\n",
    "        gt_deltas = gt[..., 5:9]    # the next four are deltas\n",
    "        gt_class_logits = gt[..., 9:]    # classification of the classes\n",
    "\n",
    "        # resolver predictions\n",
    "        pred_class_probs, pred_log_class_probs, pred_scores, pred_deltas, pred_boxes = self.resolver(pred)\n",
    "\n",
    "        num_objects = torch.sum(anchor_masks, dim=[1,2])\n",
    "        overlaps = computer_overlaps(gt_boxes, pred_boxes) * anchor_masks\n",
    "\n",
    "        class_loss = torch.sum(\n",
    "            self.class_loss_weight * anchor_masks * gt_class_logits * (-pred_log_class_probs),\n",
    "        dim=[1,2],\n",
    "        ) / num_objects\n",
    "\n",
    "        positive_score_loss = torch.sum(self.position_score_loss_weight * anchor_masks * (overlaps - pred_scores) ** 2,\n",
    "                                       dim=[1,2]) / num_objects\n",
    "\n",
    "        negative_score_loss = torch.sum(self.negative_score_loss_weight * (1 - anchor_masks) * (overlaps - pred_scores) ** 2,\n",
    "                                       dim=[1,2]) / (self.num_anchors - num_objects)\n",
    "\n",
    "\n",
    "        bbox_loss = torch.sum(self.bbox_loss_weight * anchor_masks * (pred_deltas - get_deltas) ** 2,\n",
    "                             dim=[1,2],) / num_objects\n",
    "\n",
    "        loss = class_loss + positive_score_loss + negative_score_loss + bbox_loss\n",
    "\n",
    "        loss_stat = {\n",
    "            'loss': loss,\n",
    "            'class_loss': class_loss,\n",
    "            'score_loss': positive_score_loss + negative_score_loss,\n",
    "            'bbox_loss': bbox_loss\n",
    "\n",
    "        }\n",
    "        return loss, loss_state\n",
    "\n",
    "\n",
    "class SqueezeDetWithLoss(nn.Module):\n",
    "    def __init__(self, num_classes, num_anchors, version, anchors_per_grid, dropout_prob):\n",
    "        super(SqueezeDetWithLoss, self).__init__()\n",
    "        self.base = SqueezenetDet(num_classes, num_anchors, version, anchors_per_grid, dropout_prob)\n",
    "        self.loss = Loss()\n",
    "\n",
    "    def forward(self, batch):\n",
    "        pred = self.base(batch['image'])\n",
    "        loss, loss_stats = self.loss(pred, batch['gt'])\n",
    "        return loss, loss_stats\n",
    "\n",
    "class SqueezeDet(nn.Module):\n",
    "    \"\"\" Inference Model\"\"\"\n",
    "    def __init__(self):\n",
    "        super(SqueezeDet, self).__init__()\n",
    "        self.base = SqueezeDetBase()\n",
    "        self.resolver = PredictionResolver(log_softmax=False)\n",
    "\n",
    "    def forward(self, batch):\n",
    "        pred = self.base(batch['image'])\n",
    "        pred_class_labels, _, pred_scores, _, pred_boxes = self.resolver(pred)\n",
    "        pred_class_probs += pred_scores\n",
    "        pred_class_ids = torch.argmax(pred_class_probs, dim=2)\n",
    "        pred_scores = torch.max(pred_class_probs, dim=2)[0]\n",
    "        det = {'class_ids': pred_class_ids,\n",
    "              'scores': pred_scores,\n",
    "              'boxes': pred_boxes}\n",
    "\n",
    "        return det\n"
   ]
  },
  {
   "cell_type": "code",
   "execution_count": 13,
   "metadata": {},
   "outputs": [
    {
     "data": {
      "text/plain": [
       "<utils.config.Args at 0x7f0f4a81d580>"
      ]
     },
     "execution_count": 13,
     "metadata": {},
     "output_type": "execute_result"
    }
   ],
   "source": [
    "arguments"
   ]
  },
  {
   "cell_type": "code",
   "execution_count": 9,
   "metadata": {},
   "outputs": [
    {
     "ename": "AttributeError",
     "evalue": "'Args' object has no attribute 'num_classes'",
     "output_type": "error",
     "traceback": [
      "\u001b[0;31m---------------------------------------------------------------------------\u001b[0m",
      "\u001b[0;31mAttributeError\u001b[0m                            Traceback (most recent call last)",
      "\u001b[0;32m<ipython-input-9-5363b65c2b78>\u001b[0m in \u001b[0;36m<module>\u001b[0;34m\u001b[0m\n\u001b[0;32m----> 1\u001b[0;31m \u001b[0mmodel\u001b[0m \u001b[0;34m=\u001b[0m \u001b[0mSqueezeDetWithLoss\u001b[0m\u001b[0;34m(\u001b[0m\u001b[0marguments\u001b[0m\u001b[0;34m)\u001b[0m\u001b[0;34m\u001b[0m\u001b[0;34m\u001b[0m\u001b[0m\n\u001b[0m",
      "\u001b[0;32m~/squeezedetect/model/SqueezeNet_detect.py\u001b[0m in \u001b[0;36m__init__\u001b[0;34m(self, args)\u001b[0m\n\u001b[1;32m    196\u001b[0m     \u001b[0;32mdef\u001b[0m \u001b[0m__init__\u001b[0m\u001b[0;34m(\u001b[0m\u001b[0mself\u001b[0m\u001b[0;34m,\u001b[0m \u001b[0margs\u001b[0m\u001b[0;34m)\u001b[0m\u001b[0;34m:\u001b[0m\u001b[0;34m\u001b[0m\u001b[0;34m\u001b[0m\u001b[0m\n\u001b[1;32m    197\u001b[0m         \u001b[0msuper\u001b[0m\u001b[0;34m(\u001b[0m\u001b[0mSqueezeDetWithLoss\u001b[0m\u001b[0;34m,\u001b[0m \u001b[0mself\u001b[0m\u001b[0;34m)\u001b[0m\u001b[0;34m.\u001b[0m\u001b[0m__init__\u001b[0m\u001b[0;34m(\u001b[0m\u001b[0;34m)\u001b[0m\u001b[0;34m\u001b[0m\u001b[0;34m\u001b[0m\u001b[0m\n\u001b[0;32m--> 198\u001b[0;31m         \u001b[0mself\u001b[0m\u001b[0;34m.\u001b[0m\u001b[0mbase\u001b[0m \u001b[0;34m=\u001b[0m \u001b[0mSqueezenetDet\u001b[0m\u001b[0;34m(\u001b[0m\u001b[0margs\u001b[0m\u001b[0;34m)\u001b[0m\u001b[0;34m\u001b[0m\u001b[0;34m\u001b[0m\u001b[0m\n\u001b[0m\u001b[1;32m    199\u001b[0m         \u001b[0mself\u001b[0m\u001b[0;34m.\u001b[0m\u001b[0mloss\u001b[0m \u001b[0;34m=\u001b[0m \u001b[0mLoss\u001b[0m\u001b[0;34m(\u001b[0m\u001b[0margs\u001b[0m\u001b[0;34m)\u001b[0m\u001b[0;34m\u001b[0m\u001b[0;34m\u001b[0m\u001b[0m\n\u001b[1;32m    200\u001b[0m \u001b[0;34m\u001b[0m\u001b[0m\n",
      "\u001b[0;32m~/squeezedetect/model/SqueezeNet_detect.py\u001b[0m in \u001b[0;36m__init__\u001b[0;34m(self, args)\u001b[0m\n\u001b[1;32m     38\u001b[0m     \u001b[0;32mdef\u001b[0m \u001b[0m__init__\u001b[0m\u001b[0;34m(\u001b[0m\u001b[0mself\u001b[0m\u001b[0;34m,\u001b[0m \u001b[0margs\u001b[0m\u001b[0;34m)\u001b[0m\u001b[0;34m:\u001b[0m\u001b[0;34m\u001b[0m\u001b[0;34m\u001b[0m\u001b[0m\n\u001b[1;32m     39\u001b[0m         \u001b[0msuper\u001b[0m\u001b[0;34m(\u001b[0m\u001b[0mSqueezenetDet\u001b[0m\u001b[0;34m,\u001b[0m \u001b[0mself\u001b[0m\u001b[0;34m)\u001b[0m\u001b[0;34m.\u001b[0m\u001b[0m__init__\u001b[0m\u001b[0;34m(\u001b[0m\u001b[0;34m)\u001b[0m\u001b[0;34m\u001b[0m\u001b[0;34m\u001b[0m\u001b[0m\n\u001b[0;32m---> 40\u001b[0;31m         \u001b[0mself\u001b[0m\u001b[0;34m.\u001b[0m\u001b[0mnum_classes\u001b[0m \u001b[0;34m=\u001b[0m \u001b[0margs\u001b[0m\u001b[0;34m.\u001b[0m\u001b[0mnum_classes\u001b[0m   \u001b[0;31m# we get the number of classes and anchors\u001b[0m\u001b[0;34m\u001b[0m\u001b[0;34m\u001b[0m\u001b[0m\n\u001b[0m\u001b[1;32m     41\u001b[0m         \u001b[0mself\u001b[0m\u001b[0;34m.\u001b[0m\u001b[0mnum_anchors\u001b[0m \u001b[0;34m=\u001b[0m \u001b[0margs\u001b[0m\u001b[0;34m.\u001b[0m\u001b[0mnum_anchors\u001b[0m   \u001b[0;31m# from the configs file\u001b[0m\u001b[0;34m\u001b[0m\u001b[0;34m\u001b[0m\u001b[0m\n\u001b[1;32m     42\u001b[0m \u001b[0;34m\u001b[0m\u001b[0m\n",
      "\u001b[0;31mAttributeError\u001b[0m: 'Args' object has no attribute 'num_classes'"
     ]
    }
   ],
   "source": [
    "model = SqueezeDetWithLoss(arguments)"
   ]
  },
  {
   "cell_type": "code",
   "execution_count": null,
   "metadata": {},
   "outputs": [],
   "source": []
  },
  {
   "cell_type": "code",
   "execution_count": null,
   "metadata": {},
   "outputs": [],
   "source": []
  },
  {
   "cell_type": "code",
   "execution_count": null,
   "metadata": {},
   "outputs": [],
   "source": []
  }
 ],
 "metadata": {
  "kernelspec": {
   "display_name": "Python 3",
   "language": "python",
   "name": "python3"
  },
  "language_info": {
   "codemirror_mode": {
    "name": "ipython",
    "version": 3
   },
   "file_extension": ".py",
   "mimetype": "text/x-python",
   "name": "python",
   "nbconvert_exporter": "python",
   "pygments_lexer": "ipython3",
   "version": "3.8.2"
  }
 },
 "nbformat": 4,
 "nbformat_minor": 4
}
