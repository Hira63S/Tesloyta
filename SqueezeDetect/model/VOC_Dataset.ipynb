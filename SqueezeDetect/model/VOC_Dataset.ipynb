{
 "cells": [
  {
   "cell_type": "markdown",
   "metadata": {},
   "source": [
    "# Test with VOC Dataset\n",
    "\n",
    "THE VOC dataset from years 2007 and 2012 contains 20 classes (+1 for background class)\n",
    "\n",
    "We will experiment with this for object detection and would be working with another dataset later on.\n"
   ]
  },
  {
   "cell_type": "code",
   "execution_count": 7,
   "metadata": {},
   "outputs": [],
   "source": [
    "import torch\n",
    "from torch.utils.data import Dataset\n",
    "import json\n",
    "import os\n",
    "from PIL import Image\n",
    "# from utils import transform\n",
    "import torchvision.transforms.functional as FT\n",
    "import xml.etree.ElementTree as ET"
   ]
  },
  {
   "cell_type": "code",
   "execution_count": 9,
   "metadata": {},
   "outputs": [],
   "source": [
    "device = torch.device(\"cuda\" if torch.cuda.is_available() else \"cpu\")\n",
    "\n",
    "voc_labels = ('aeroplane', 'bicycle', 'bird', 'boat', 'bottle', 'bus', 'car', 'cat', 'chair', 'cow', 'diningtable',\n",
    "              'dog', 'horse', 'motorbike', 'person', 'pottedplant', 'sheep', 'sofa', 'train', 'tvmonitor')\n",
    "\n",
    "\n",
    "label_map = {k: v+1 for v, k in enumerate(voc_labels)}\n",
    "label_map['background'] = 0\n",
    "rev_color_map = {v: k for k, v in label_map.items()}"
   ]
  },
  {
   "cell_type": "code",
   "execution_count": 12,
   "metadata": {},
   "outputs": [],
   "source": [
    "distinct_colors = ['#e6194b', '#3cb44b', '#ffe119', '#0082c8', '#f58231', '#911eb4', '#46f0f0', '#f032e6',\n",
    "                   '#d2f53c', '#fabebe', '#008080', '#000080', '#aa6e28', '#fffac8', '#800000', '#aaffc3', '#808000',\n",
    "                   '#ffd8b1', '#e6beff', '#808080', '#FFFFFF']\n",
    "label_color_map = {k: distinct_colors[i] for i, k in enumerate(label_map.keys())}\n",
    "\n",
    "# label_color_map"
   ]
  },
  {
   "cell_type": "code",
   "execution_count": 13,
   "metadata": {},
   "outputs": [],
   "source": [
    "def parse_annotation(annotation_path):\n",
    "    \n",
    "    tree = ET.parse(annotation_path)\n",
    "    root = tree.getroot()\n",
    "    \n",
    "    boxes = list()\n",
    "    labels = list()\n",
    "    difficulties = list()    # the boxes/objects that were super difficult to detect by the model\n",
    "    \n",
    "    for object in root.iter('object'):\n",
    "        \n",
    "        difficult = int(object.find('difficult').text == '1')\n",
    "        \n",
    "        label = object.find('name').text.lower().strip()\n",
    "        \n",
    "        if label not in label_map:\n",
    "            continue\n",
    "            \n",
    "        bbox = object.find('bndbox')\n",
    "        xmin = int(bbox.find('xmin').text) - 1\n",
    "        ymin = int(bbox.find('ymin').text) - 1\n",
    "        xmax = int(bbox.find('xmax').text) - 1\n",
    "        ymax = int(bbox.find('ymax').text) - 1\n",
    "        \n",
    "        boxes.append([xmin, ymin, xmax, ymax])\n",
    "        labels.append(label_map[label])\n",
    "        difficulties.append(difficult)\n",
    "    \n",
    "    return {'boxes': boxes, 'labels': labels, 'difficulties': difficulties}\n",
    "        "
   ]
  },
  {
   "cell_type": "code",
   "execution_count": null,
   "metadata": {},
   "outputs": [],
   "source": [
    "def create_data_lists(voc07_path, voc12_path, output_folder):\n",
    "    \"\"\"\n",
    "    Create lists of images, bounding boxes, labels of the objects in these images,\n",
    "    and save them to file.\n",
    "    \n",
    "    :param voc07_path: path to the 'VOC2007' folder\n",
    "    :param voc12_path: path to the 'VOC2012' folder\n",
    "    :param output_folder: folder where the JSONs must be saved\n",
    "    \"\"\"\n",
    "    voc07_path = os.path.abspath(voc07_path)\n",
    "    voc12_path = os.path.abspath(voc12_path)\n",
    "    \n",
    "    train_images = list()\n",
    "    train_objects = list()\n",
    "    n_objects = 0\n",
    "    \n",
    "    \n",
    "    # load the training data\n",
    "    \n",
    "    for path in [voc07_path, voc12_path]:\n",
    "        \n",
    "        with open(os.path.join(path, 'ImageSets/Main/trainval.txt')) as f:\n",
    "            ids = f.read().splitlines()\n",
    "            \n",
    "        for id in ids:\n",
    "            objects = parse_annotation(os.path.join(path, 'Annotations', id = '.xml'))\n",
    "            if len(objects) == 0:\n",
    "                continue\n",
    "            \n",
    "            n_objects += len(objects)\n",
    "            train_objects.append(objects)\n",
    "            train_images.append(os.path.join(path, 'JPEGImages', id + '.jpg'))\n",
    "        \n",
    "    assert len(train_objects) == len(train_images)\n",
    "    \n",
    "    \n",
    "    "
   ]
  },
  {
   "cell_type": "code",
   "execution_count": null,
   "metadata": {},
   "outputs": [],
   "source": []
  },
  {
   "cell_type": "code",
   "execution_count": null,
   "metadata": {},
   "outputs": [],
   "source": []
  },
  {
   "cell_type": "code",
   "execution_count": null,
   "metadata": {},
   "outputs": [],
   "source": []
  },
  {
   "cell_type": "code",
   "execution_count": 6,
   "metadata": {},
   "outputs": [],
   "source": [
    "\n",
    "def transform(image, boxes, labels, difficulties, split):\n",
    "    \"\"\"\n",
    "    Apply the transformatons on the images\n",
    "    \n",
    "    :param image: Apply transformations on PIL image\n",
    "    :param boxes: bounding boxes in boundary coordinates, a tensor of dimensions\n",
    "    :param labels: labels of objects, a tensor of dimensions\n",
    "    :param difficulties: difficulty of detection, we might not even need this but need to perform transformations on it\n",
    "    :param split: Split the train and test datasets, since we perform different transformations on each\n",
    "    :return: return the transformed image,  boxes, labels, difficulties and splitted datasets\n",
    "    \n",
    "    \"\"\"\n",
    "    assert split in ('TRAIN', 'TEST')\n",
    "    \n",
    "    mean = [0.485, 0.456, 0.406]\n",
    "    std = [0.229, 0.224, 0.225]\n",
    "    \n",
    "    new_image = image\n",
    "    new_boxes = boxes\n",
    "    new_labels = labels\n",
    "    new_difficulties = difficulties\n",
    "    \n",
    "    if split == 'TRAIN':\n",
    "        \n",
    "        # photometric distortion is not built-in so have to pass that in too\n",
    "        \n",
    "        new_image = photometric_distort(new_image)\n",
    "        \n",
    "        new_image = FT.to_tensor(new_image)\n",
    "        \n",
    "        # expand i.e. zoom out the image with a 50% chance (i.e. applicable to 50% data?)\n",
    "        # expand with the mean of the whole dataset\n",
    "        # expand is not in-built, so have to write that function too\n",
    "        if random.random() < 0.5:\n",
    "            new_image, new_boxes = expand(new_image, boxes, filter=mean)\n",
    "            \n",
    "        new_image, new_boxes, new_labels, new_difficulties = random_crop(new_image, new_boxes, new_labels,\n",
    "                                                                        new_difficulties)\n",
    "        \n",
    "        new_image = FT.to_pil_image(new_image)\n",
    "        \n",
    "        # flip image with a 50% chance \n",
    "        # write the flip image function too\n",
    "        if random.random() < 0.5:\n",
    "            new_image, new_boxes = flip(new_image, new_boxes)\n",
    "    \n",
    "    # resize the image (300, 300) - this also converts absolute boundary coordinates to their fractional form\n",
    "    new_image, new_boxes = resize(new_image, new_boxes, dims=(300, 300))\n",
    "    \n",
    "    new_image = FT.to_tensor(new_image)\n",
    "    \n",
    "    new_image = FT.normalize(new_image, mean=mean, std=std)\n",
    "    \n",
    "    return new_image, new_boxes, new_labels, new_difficulties\n",
    "    "
   ]
  },
  {
   "cell_type": "code",
   "execution_count": null,
   "metadata": {},
   "outputs": [],
   "source": []
  },
  {
   "cell_type": "code",
   "execution_count": null,
   "metadata": {},
   "outputs": [],
   "source": []
  },
  {
   "cell_type": "code",
   "execution_count": null,
   "metadata": {},
   "outputs": [],
   "source": []
  },
  {
   "cell_type": "code",
   "execution_count": null,
   "metadata": {},
   "outputs": [],
   "source": []
  },
  {
   "cell_type": "code",
   "execution_count": null,
   "metadata": {},
   "outputs": [],
   "source": []
  },
  {
   "cell_type": "code",
   "execution_count": null,
   "metadata": {},
   "outputs": [],
   "source": [
    "flip, expand, resize, photometric \n"
   ]
  },
  {
   "cell_type": "code",
   "execution_count": null,
   "metadata": {},
   "outputs": [],
   "source": []
  },
  {
   "cell_type": "code",
   "execution_count": null,
   "metadata": {},
   "outputs": [],
   "source": []
  },
  {
   "cell_type": "code",
   "execution_count": null,
   "metadata": {},
   "outputs": [],
   "source": []
  },
  {
   "cell_type": "code",
   "execution_count": null,
   "metadata": {},
   "outputs": [],
   "source": []
  },
  {
   "cell_type": "code",
   "execution_count": null,
   "metadata": {},
   "outputs": [],
   "source": []
  }
 ],
 "metadata": {
  "kernelspec": {
   "display_name": "Python 3",
   "language": "python",
   "name": "python3"
  },
  "language_info": {
   "codemirror_mode": {
    "name": "ipython",
    "version": 3
   },
   "file_extension": ".py",
   "mimetype": "text/x-python",
   "name": "python",
   "nbconvert_exporter": "python",
   "pygments_lexer": "ipython3",
   "version": "3.7.3"
  }
 },
 "nbformat": 4,
 "nbformat_minor": 2
}
