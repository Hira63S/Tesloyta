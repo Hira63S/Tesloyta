{
 "cells": [
  {
   "cell_type": "markdown",
   "metadata": {},
   "source": [
    "## Model training on Argoverse Data"
   ]
  },
  {
   "cell_type": "code",
   "execution_count": 1,
   "metadata": {},
   "outputs": [],
   "source": [
    "import matplotlib.pyplot as plt\n",
    "import torch\n",
    "import torch.nn as nn\n",
    "import torch.nn.functional as F\n",
    "import torch.optim as optim\n",
    "import torchvision\n",
    "from torchvision import transforms\n",
    "import argparse"
   ]
  },
  {
   "cell_type": "code",
   "execution_count": 2,
   "metadata": {},
   "outputs": [],
   "source": [
    "from utils.boxes import generate_anchors, xyxy_to_xywh, xywh_to_xyxy\n",
    "from utils.boxes import compute_deltas, compute_overlaps, boxes_postprocess"
   ]
  },
  {
   "cell_type": "code",
   "execution_count": 3,
   "metadata": {},
   "outputs": [],
   "source": [
    "from model.modules import deltas_to_boxes, compute_overlaps, safe_softmax\n",
    "from utils.config import Config\n"
   ]
  },
  {
   "cell_type": "code",
   "execution_count": 4,
   "metadata": {},
   "outputs": [],
   "source": [
    "from torch.utils.tensorboard import SummaryWriter\n",
    "writer = SummaryWriter()"
   ]
  },
  {
   "cell_type": "code",
   "execution_count": 5,
   "metadata": {},
   "outputs": [
    {
     "name": "stdout",
     "output_type": "stream",
     "text": [
      "training chunk_sizes: [20]\n",
      "The results will be saved to  C:\\Users\\cathx\\repos\\squeezedet\\SqueezeDet-PyTorch\\exp\\default\n"
     ]
    }
   ],
   "source": [
    "args = Config().parse()"
   ]
  },
  {
   "cell_type": "code",
   "execution_count": 6,
   "metadata": {},
   "outputs": [],
   "source": [
    "from demo import demo"
   ]
  },
  {
   "cell_type": "code",
   "execution_count": 7,
   "metadata": {},
   "outputs": [],
   "source": [
    "args.arch = 'squeezedet'\n",
    "args.gpus = [0]\n",
    "# args.device = 'cuda:0' if torch.cuda.is_available() else 'cpu'\n",
    "args.device = 'cuda:0'\n",
    "args.root_dir = ''\n",
    "args.batch_size = 15\n",
    "args.num_epochs = 200\n",
    "args.no_eval = True    # default = True, we do not want to surpass mAP evaluation during training\n",
    "args.load_model = '../models/squeezenet1_1-f364aa15.pth'\n",
    "# args.data_dir = 'C://users/cathx/repos/squeezedet/squeezedet-pytorch/data/data_kitti/'"
   ]
  },
  {
   "cell_type": "code",
   "execution_count": 8,
   "metadata": {},
   "outputs": [
    {
     "name": "stdout",
     "output_type": "stream",
     "text": [
      "Aniyeo Tesla\n"
     ]
    }
   ],
   "source": [
    "from train import train"
   ]
  },
  {
   "cell_type": "code",
   "execution_count": 10,
   "metadata": {},
   "outputs": [],
   "source": [
    "# train(args)"
   ]
  },
  {
   "cell_type": "code",
   "execution_count": null,
   "metadata": {},
   "outputs": [],
   "source": []
  }
 ],
 "metadata": {
  "kernelspec": {
   "display_name": "Python 3",
   "language": "python",
   "name": "python3"
  },
  "language_info": {
   "codemirror_mode": {
    "name": "ipython",
    "version": 3
   },
   "file_extension": ".py",
   "mimetype": "text/x-python",
   "name": "python",
   "nbconvert_exporter": "python",
   "pygments_lexer": "ipython3",
   "version": "3.8.5"
  }
 },
 "nbformat": 4,
 "nbformat_minor": 5
}
